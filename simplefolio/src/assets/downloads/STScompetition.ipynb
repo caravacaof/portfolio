{
  "nbformat": 4,
  "nbformat_minor": 0,
  "metadata": {
    "colab": {
      "provenance": []
    },
    "kernelspec": {
      "name": "python3",
      "display_name": "Python 3"
    },
    "language_info": {
      "name": "python"
    }
  },
  "cells": [
    {
      "cell_type": "markdown",
      "source": [
        "by Gerard Caravaca and Nicolás Álvarez\n",
        "\n",
        "## **Semantic Textual Similarity**"
      ],
      "metadata": {
        "id": "hsi8MSTINlIs"
      }
    },
    {
      "cell_type": "markdown",
      "source": [
        "# **Introduction**\n",
        "\n",
        "Semantic Similarity, or Semantic Textual Similarity, is a task in the area of Natural Language Processing (NLP) that scores the relationship between texts or documents using a defined metric. For this project, a participation in SemEval 2012 will be simulated. SemEval (Semantic Evaluation Exercises) is a series of workshops whose main objective is the evaluation and comparison of semantic analysis systems. \n",
        "\n",
        "The purpose is to recognise similarity of phrases in different fields. To do this, the following steps will be followed:\n",
        "\n",
        "\n",
        "\n",
        "1.   Set up\n",
        "2.   Data loading\n",
        "3.   Feature extraction\n",
        "4.   Feature selection\n",
        "5.   ML model development\n",
        "6.   Results evaluation"
      ],
      "metadata": {
        "id": "0VP88XNxOvrp"
      }
    },
    {
      "cell_type": "markdown",
      "source": [
        "# **1. Set up**\n",
        "\n",
        "In this section all the functions necessary for the project are imported. Furthermore, the notebook is placed in the working environment."
      ],
      "metadata": {
        "id": "LgOa0WCuScfZ"
      }
    },
    {
      "cell_type": "code",
      "execution_count": null,
      "metadata": {
        "id": "Xv4i4EYVNg6i"
      },
      "outputs": [],
      "source": [
        "#import from packages\n",
        "import pandas as pd\n",
        "import numpy as np\n",
        "import sys\n",
        "from google.colab import drive\n",
        "from sklearn.feature_selection import r_regression\n",
        "import matplotlib.pyplot as plt\n",
        "from scipy.stats import pearsonr\n",
        "from sklearn.svm import SVR\n",
        "from sklearn.model_selection import GridSearchCV, PredefinedSplit\n",
        "from sklearn.metrics import make_scorer\n",
        "from sklearn.preprocessing import StandardScaler\n",
        "import spacy\n",
        "nlp = spacy.load(\"en_core_web_sm\")"
      ]
    },
    {
      "cell_type": "code",
      "source": [
        "#connect to GD work directory\n",
        "drive.mount('/content/drive')\n",
        "PATH='/content/drive/MyDrive/Colab Notebooks/IHLT/STS'\n",
        "SOURCE_PATH=PATH+'/utils'\n",
        "sys.path.append(SOURCE_PATH)"
      ],
      "metadata": {
        "id": "lH00jIhiT8cX",
        "colab": {
          "base_uri": "https://localhost:8080/"
        },
        "outputId": "086023d4-0c26-42a6-864b-658bb616b4a0"
      },
      "execution_count": null,
      "outputs": [
        {
          "output_type": "stream",
          "name": "stdout",
          "text": [
            "Mounted at /content/drive\n"
          ]
        }
      ]
    },
    {
      "cell_type": "code",
      "source": [
        "#import from our code\n",
        "from evaluation import *\n",
        "from data import *\n",
        "from similarities import  *\n",
        "from features import *"
      ],
      "metadata": {
        "id": "R94nNiF2TLge",
        "colab": {
          "base_uri": "https://localhost:8080/"
        },
        "outputId": "fa929f44-e008-4237-ecff-5e07cbc87274"
      },
      "execution_count": null,
      "outputs": [
        {
          "output_type": "stream",
          "name": "stderr",
          "text": [
            "[nltk_data] Downloading package wordnet_ic to /root/nltk_data...\n",
            "[nltk_data]   Unzipping corpora/wordnet_ic.zip.\n",
            "[nltk_data] Downloading package wordnet to /root/nltk_data...\n",
            "[nltk_data] Downloading package punkt to /root/nltk_data...\n",
            "[nltk_data]   Unzipping tokenizers/punkt.zip.\n",
            "[nltk_data] Downloading package averaged_perceptron_tagger to\n",
            "[nltk_data]     /root/nltk_data...\n",
            "[nltk_data]   Unzipping taggers/averaged_perceptron_tagger.zip.\n",
            "[nltk_data] Downloading package omw-1.4 to /root/nltk_data...\n"
          ]
        }
      ]
    },
    {
      "cell_type": "markdown",
      "source": [
        "#**2. Data loading**\n",
        "\n",
        "In this section, the train and test sentences are loaded. This data is provided by SemEval and consists of test, training and trial data sets. These will be the only data that can be used in this exercise. This data contains various data sets with phrases extracted from different fields:\n",
        "\n",
        "*   MSRpar: Microsoft Research Paraphrase Corpus. \n",
        "    http://research.microsoft.com/en-us/downloads/607d14d9-20cd-47e3-85bc-a2f65cd28042/\n",
        "  750 pairs of sentences for train and test.\n",
        "*   MSRvid: Microsoft Research Video Description Corpus. http://research.microsoft.com/en-us/downloads/38cf15fd-b8df-477e-a4e4-a4680caa75af/\n",
        "  750 pairs of sentences for train and test.\n",
        "*   SMTeuropar: WMT2008 develoment dataset (Europarl section). http://www.statmt.org/wmt08/shared-evaluation-task.html\n",
        "  734 pairs of sentences for train and test.\n",
        "*  2 surprise data sets for test."
      ],
      "metadata": {
        "id": "vGmjOWfhUE-f"
      }
    },
    {
      "cell_type": "code",
      "source": [
        "#load input sentences\n",
        "train_data, test_data, train_labels, test_labels=load_data(PATH)\n",
        "print('#Train sentences: ', len(train_data))\n",
        "print('#Test sentences: ', len(test_data))"
      ],
      "metadata": {
        "colab": {
          "base_uri": "https://localhost:8080/"
        },
        "id": "Yzb-V6MBg74X",
        "outputId": "609545c6-5b11-4677-ac97-5e0ba93b3a99"
      },
      "execution_count": null,
      "outputs": [
        {
          "output_type": "stream",
          "name": "stdout",
          "text": [
            "#Train sentences:  2234\n",
            "#Test sentences:  3108\n"
          ]
        }
      ]
    },
    {
      "cell_type": "markdown",
      "source": [
        "# **3. Feature extraction**\n",
        "\n",
        "The next step to follow if we want to solve this problem with a machine learning model is feature extraction. This refers to the process of selecting and transforming the input data into a format that is suitable for the machine learning model being used. This includes selecting relevant features in the input data, removing irrelevant or redundant features, and transforming or combining features into a format that is suitable for the model. For this we have used the information provided in some of the papers presented to the royal competition [1] [2] [3]. \n",
        "\n",
        "The features chosen to analyse in this exercise are as follows:\n",
        "\n",
        "*   **Lemmas**: extraction of each of the lemmas of a sentence.\n",
        "*   **Lemmas and stop-words**: in addition to including the lemmas of a sentence in the comparison, stop-words are also added.\n",
        "*   **Named Entities**: extract named entities of a sentence. \n",
        "*   **Dependency parser**: extract structure of Spacy dependency parser.\n",
        "*   **Noun phrases**: extract noun phrases of a sentence.\n",
        "*   **Verb phrases**: extract verb phrases of a sentence.\n",
        "*   **Lesk**: apply lesk algorithm to the sentence to solve the problem of disambiguation of words in a given context. \n",
        "*   **Stems**: Stemmatisation is a process in which a word is reduced to its root, also known as stem. This involves removing the endings of a word to leave its basic root. \n",
        "*   **Bigrams**: comparison of sequences of two words in each sentence.\n",
        "*   **Trigrams**: comparison of sequences of three words in each sentence.\n",
        "*   **Path similarity**: apply the path similarity metric as a semantic similarity between words.\n",
        "*   **Leacock-Chodorow similarity**: apply the Leacock-Chodorow similarity metric as a semantic similarity between words.\n",
        "*   **Wu-Palmer similarity**: apply the Wu-Palmer similarity metric as a semantic similarity between words.\n",
        "*   **Lin similarity**: apply the Lin similarity metric as a semantic similarity between words.\n",
        "\n",
        "Finally, the metrics used to calculate similarity between sentences taking into account each of the techniques described are as follows:\n",
        "\n",
        "*   **Jaccard similarity**\n",
        "*   **Dice similarity**\n",
        "*   **Cosine similarity**\n",
        "\n",
        "\n",
        "\n",
        "\n",
        "\n",
        "\n"
      ],
      "metadata": {
        "id": "Qi3Y3apEU0Nm"
      }
    },
    {
      "cell_type": "code",
      "source": [
        "#functions for extracting all features efficiently\n",
        "def get_features_similarity(dataset, spacy_features, other_features, similarities, lexical_semantics):\n",
        "  final_set=[]\n",
        "  index=0\n",
        "  for sentence1, sentence2 in dataset: #iterate pair of sentences\n",
        "    if index%100 == 0:\n",
        "      print('   -> sentences: ' + str(index) + '/' + str(len(dataset)))\n",
        "    sims=[]\n",
        "    doc1=nlp(sentence1)\n",
        "    doc2=nlp(sentence2)\n",
        "    tok1=tokenize(sentence1)\n",
        "    tok2=tokenize(sentence2)\n",
        "    for f in spacy_features:\n",
        "      for similarity in similarities:\n",
        "        s1 = f(doc1)\n",
        "        s2 = f(doc2)\n",
        "        if len(s1) == 0 and len(s2)==0:\n",
        "          sims.append(0)\n",
        "        else:\n",
        "          sims.append(similarity(set(s1),set(s2)))\n",
        "    for f in other_features:\n",
        "      for similarity in similarities:\n",
        "        s1 = f(tok1)\n",
        "        s2 = f(tok2)\n",
        "        if len(s1) == 0 and len(s2)==0:\n",
        "          sims.append(0)\n",
        "        else:\n",
        "          sims.append(similarity(set(s1),set(s2)))\n",
        "    lex=get_lexical_similarities(doc1, doc2, lexical_semantics)\n",
        "    for l in lex:\n",
        "      sims.append(l)\n",
        "    final_set.append(sims)\n",
        "    index+=1\n",
        "  return final_set\n",
        "  \n",
        "def extract_features(dataset, wanted_features):\n",
        "  spacy_features=[]\n",
        "  others_features=[]\n",
        "  lexical_semantics=[]\n",
        "\n",
        "  #using spacy (split for efficiency)\n",
        "  if 'lemmas' in wanted_features:\n",
        "    spacy_features.append(lemmatize)\n",
        "  if 'NEs' in wanted_features:\n",
        "    spacy_features.append(lemmatize_and_NEs)\n",
        "  if 'dependency_parse' in wanted_features:\n",
        "    spacy_features.append(dependency_parser)\n",
        "  if 'lemmas_sw' in wanted_features:\n",
        "    spacy_features.append(lemmatize_and_sw)\n",
        "  if 'NP' in wanted_features:\n",
        "    spacy_features.append(noun_phrase)\n",
        "  if 'VP' in wanted_features:\n",
        "    spacy_features.append(verb_phrase)\n",
        "  \n",
        "  #lexical semantics\n",
        "  if 'path_similarity' in wanted_features:\n",
        "    lexical_semantics.append(path_similarity)\n",
        "  if 'wup_similarity' in wanted_features:\n",
        "    lexical_semantics.append(wup_similarity)\n",
        "  if 'lch_similarity' in wanted_features:\n",
        "    lexical_semantics.append(lch_similarity)\n",
        "  if 'lin_similarity' in wanted_features:\n",
        "    lexical_semantics.append(lin_similarity)\n",
        "\n",
        "    #others\n",
        "  if 'lesk' in wanted_features:\n",
        "    others_features.append(lesk_word_sense)\n",
        "  if 'stems' in wanted_features:\n",
        "    others_features.append(stemmatize)\n",
        "  if 'bigrams' in wanted_features:\n",
        "    others_features.append(bigrams)\n",
        "  if 'trigrams' in wanted_features:\n",
        "    others_features.append(trigrams)\n",
        "\n",
        "  results=get_features_similarity(dataset, spacy_features,  others_features, [jaccard, dice_similarity, cosine_similarity], lexical_semantics)\n",
        "  return results"
      ],
      "metadata": {
        "id": "PXr2s76grX6-"
      },
      "execution_count": null,
      "outputs": []
    },
    {
      "cell_type": "code",
      "source": [
        "list_f=['lemmas', 'NEs', 'dependency_parse','lemmas_sw', 'NP', 'VP', 'lesk', 'stems', 'bigrams', 'trigrams', 'path_similarity', 'wup_similarity', 'lch_similarity', 'lin_similarity']\n",
        "print('computing features for train dataset...')\n",
        "train_features=extract_features(train_data, list_f)\n",
        "print('computing features for test dataset...')\n",
        "test_features=extract_features(test_data, list_f)\n",
        "print('#features: ', len(train_features[0]))"
      ],
      "metadata": {
        "colab": {
          "base_uri": "https://localhost:8080/"
        },
        "id": "jEVPmvPprjTD",
        "outputId": "7d632abe-024f-4a2c-f2bf-277b4fe250bc"
      },
      "execution_count": null,
      "outputs": [
        {
          "output_type": "stream",
          "name": "stdout",
          "text": [
            "computing features for train dataset...\n",
            "   -> sentences: 0/2234\n",
            "   -> sentences: 100/2234\n",
            "   -> sentences: 200/2234\n",
            "   -> sentences: 300/2234\n",
            "   -> sentences: 400/2234\n",
            "   -> sentences: 500/2234\n",
            "   -> sentences: 600/2234\n",
            "   -> sentences: 700/2234\n",
            "   -> sentences: 800/2234\n",
            "   -> sentences: 900/2234\n",
            "   -> sentences: 1000/2234\n",
            "   -> sentences: 1100/2234\n",
            "   -> sentences: 1200/2234\n",
            "   -> sentences: 1300/2234\n",
            "   -> sentences: 1400/2234\n",
            "   -> sentences: 1500/2234\n",
            "   -> sentences: 1600/2234\n",
            "   -> sentences: 1700/2234\n",
            "   -> sentences: 1800/2234\n",
            "   -> sentences: 1900/2234\n",
            "   -> sentences: 2000/2234\n",
            "   -> sentences: 2100/2234\n",
            "   -> sentences: 2200/2234\n",
            "computing features for test dataset...\n",
            "   -> sentences: 0/3108\n",
            "   -> sentences: 100/3108\n",
            "   -> sentences: 200/3108\n",
            "   -> sentences: 300/3108\n",
            "   -> sentences: 400/3108\n",
            "   -> sentences: 500/3108\n",
            "   -> sentences: 600/3108\n",
            "   -> sentences: 700/3108\n",
            "   -> sentences: 800/3108\n",
            "   -> sentences: 900/3108\n",
            "   -> sentences: 1000/3108\n",
            "   -> sentences: 1100/3108\n",
            "   -> sentences: 1200/3108\n",
            "   -> sentences: 1300/3108\n",
            "   -> sentences: 1400/3108\n",
            "   -> sentences: 1500/3108\n",
            "   -> sentences: 1600/3108\n",
            "   -> sentences: 1700/3108\n",
            "   -> sentences: 1800/3108\n",
            "   -> sentences: 1900/3108\n",
            "   -> sentences: 2000/3108\n",
            "   -> sentences: 2100/3108\n",
            "   -> sentences: 2200/3108\n",
            "   -> sentences: 2300/3108\n",
            "   -> sentences: 2400/3108\n",
            "   -> sentences: 2500/3108\n",
            "   -> sentences: 2600/3108\n",
            "   -> sentences: 2700/3108\n",
            "   -> sentences: 2800/3108\n",
            "   -> sentences: 2900/3108\n",
            "   -> sentences: 3000/3108\n",
            "   -> sentences: 3100/3108\n",
            "#features:  34\n"
          ]
        }
      ]
    },
    {
      "cell_type": "markdown",
      "source": [
        "The features of the input data are now transformed into a common scale. **Scaling** the features allows all features to have the same weight in the distance calculation, which can improve the accuracy and performance of the machine learning model.\n",
        "\n"
      ],
      "metadata": {
        "id": "mH8muHUwrpWV"
      }
    },
    {
      "cell_type": "code",
      "source": [
        "standard_scaler = StandardScaler()\n",
        "standard_scaler.fit(train_features)\n",
        "scaled_features_train = standard_scaler.transform(train_features)\n",
        "scaled_features_test = standard_scaler.transform(test_features)"
      ],
      "metadata": {
        "id": "1lZOAIorsLca"
      },
      "execution_count": null,
      "outputs": []
    },
    {
      "cell_type": "markdown",
      "source": [
        "# **4. Feature selection**\n",
        "\n",
        "With this we have extracted 34 features which may be too many in this case.  Also, analysing these, some of them will have little impact on the final model. For this reason we need a selection of the best ones. Feature selection is important because model performance can be improved by using only relevant features instead of all available features. In addition, using only relevant features can reduce training time and improve model interpretability. \n",
        "\n",
        "To decide which features to keep we extract the correlation between each of them and the gold standard in the train sentences."
      ],
      "metadata": {
        "id": "tJa8VgkrU6D8"
      }
    },
    {
      "cell_type": "code",
      "source": [
        "feature_correlation=r_regression(scaled_features_train, train_labels)\n",
        "feature_names = ['lemmas_jac', 'lemmas_dice', 'lemmas_cos', 'NEs_jac', 'NEs_dice', 'NEs_cos', 'dependency_jac', 'dependency_dice', 'dependency_cos', 'lemmas_sw_jac', 'lemmas_sw_dice', 'lemmas_sw_cos', 'NP_jac', 'NP_dice', 'NP_cos', 'VP_jac', 'VP_dice', 'VP_cos', 'lesk_jac', 'lesk_dice', 'lesk_cos', 'stemm_jac', 'stemm_dice', 'stemm_cos', 'bigrams_jac', 'bigrams_dice', 'bigrams_cos', 'trigrams_jac', 'trigrams_dice', 'trigrams_cos', 'path_sim', 'wup_sim', 'lch_sim', 'lin_sim']\n",
        "dic = {feature_names[i]: feature_correlation[i] for i in range(len(feature_names))}\n",
        "fig = plt.figure(figsize = (10, 5))\n",
        "plt.bar(dic.keys(), np.abs(list(dic.values())))\n",
        "plt.xticks(rotation=45, ha=\"right\")\n",
        "plt.show()"
      ],
      "metadata": {
        "colab": {
          "base_uri": "https://localhost:8080/",
          "height": 379
        },
        "id": "-9l1Nr7LuU_D",
        "outputId": "47907213-02e4-4883-c6d5-380325d7b6e2"
      },
      "execution_count": null,
      "outputs": [
        {
          "output_type": "display_data",
          "data": {
            "text/plain": [
              "<Figure size 720x360 with 1 Axes>"
            ],
            "image/png": "[encoded data removed]"
          },
          "metadata": {
            "needs_background": "light"
          }
        }
      ]
    },
    {
      "cell_type": "markdown",
      "source": [
        "As can be seen in the plot there are some features that have very little impact. In order to proceed, we decided to keep the features that have a correlation > 0.25."
      ],
      "metadata": {
        "id": "Rzcs44V_uhgl"
      }
    },
    {
      "cell_type": "code",
      "source": [
        "values=np.abs(list(dic.values()))\n",
        "sel_ids = [n for n,i in enumerate(values) if i>0.25]\n",
        "\n",
        "scaled_features_train = scaled_features_train[:,sel_ids]\n",
        "scaled_features_test = scaled_features_test[:,sel_ids]\n",
        "\n",
        "print('Best features: ', [i for n,i in enumerate(feature_names) if n in sel_ids])"
      ],
      "metadata": {
        "colab": {
          "base_uri": "https://localhost:8080/"
        },
        "id": "MsDGgnVWu1hr",
        "outputId": "e2babb08-fe9e-4f9e-a518-80131b7e5921"
      },
      "execution_count": null,
      "outputs": [
        {
          "output_type": "stream",
          "name": "stdout",
          "text": [
            "Best features:  ['lemmas_jac', 'lemmas_dice', 'NEs_jac', 'NEs_dice', 'dependency_jac', 'dependency_dice', 'dependency_cos', 'lemmas_sw_jac', 'lemmas_sw_dice', 'lemmas_sw_cos', 'NP_jac', 'NP_dice', 'VP_dice', 'lesk_jac', 'lesk_dice', 'stemm_jac', 'stemm_dice', 'bigrams_jac', 'bigrams_dice', 'trigrams_jac', 'trigrams_dice']\n"
          ]
        }
      ]
    },
    {
      "cell_type": "markdown",
      "source": [
        "# **5. ML model selection**\n",
        "\n",
        "Several models were tested, among them were tested: Random Forest, Support Vector Machines and Multi-layer Perceptrons. However, the process that yielded the best results was the following:"
      ],
      "metadata": {
        "id": "qDpP6WE8U_P6"
      }
    },
    {
      "cell_type": "markdown",
      "source": [
        "1.  We first trained 4 regression models with Support vector machines, the first three with each of the train data sets and the last one with all of them."
      ],
      "metadata": {
        "id": "jRhlNHNkvvit"
      }
    },
    {
      "cell_type": "code",
      "source": [
        "#function for training a model\n",
        "def train_SVR_model(train_data, test_data, train_labels, test_labels):\n",
        "  data = np.concatenate([train_data, test_data])\n",
        "  labels = np.concatenate([train_labels, test_labels])\n",
        "  fold = np.array([-1]*train_data.shape[0] + [0]*train_data.shape[0])\n",
        "  fold_split = PredefinedSplit(fold)\n",
        "\n",
        "  pearson_scorer = make_scorer(lambda y, y_hat: pearsonr(y, y_hat)[0])\n",
        "\n",
        "  gamma = np.logspace(-3, -1, 3)\n",
        "  C = np.array([0.1, 0.5, 1, 2, 10, 15, 20, 50, 100, 250, 500])\n",
        "  e = np.linspace(0.1, 1, 10)\n",
        "  parameters = dict(gamma=gamma, C=C, epsilon=e)\n",
        "\n",
        "  svr = SVR(kernel='rbf', tol=1)\n",
        "  cv = GridSearchCV(svr,\n",
        "                      parameters,\n",
        "                      cv=fold_split,\n",
        "                      scoring=pearson_scorer,\n",
        "                      n_jobs=-1,\n",
        "                      verbose=1)\n",
        "  print('searching best parameters...')\n",
        "  cv = cv.fit(data, labels)\n",
        "\n",
        "  best_params = cv.best_params_\n",
        "  print(best_params)\n",
        "  model = SVR(kernel='rbf', tol=1, **best_params)\n",
        "  print('training model...')\n",
        "  model.fit(train_data, train_labels)\n",
        "  print('SVR trained succesfully.')\n",
        "\n",
        "  return model"
      ],
      "metadata": {
        "id": "YQROLSpItrKC"
      },
      "execution_count": null,
      "outputs": []
    },
    {
      "cell_type": "code",
      "source": [
        "#MSRpar model\n",
        "model_MSRpar=train_SVR_model(scaled_features_train[0:750], scaled_features_test[0:750], train_labels[0:750], test_labels[0:750])\n",
        "#MSRvid model\n",
        "model_MSRvid=train_SVR_model(scaled_features_train[750:1500], scaled_features_test[750:1500], train_labels[750:1500], test_labels[750:1500])\n",
        "#Europarl model\n",
        "model_euro=train_SVR_model(scaled_features_train[1500:1959], scaled_features_test[1500:1959], train_labels[1500:1959], test_labels[1500:1959])\n",
        "#complete model\n",
        "model=train_SVR_model(scaled_features_train, scaled_features_test, train_labels, test_labels)"
      ],
      "metadata": {
        "colab": {
          "base_uri": "https://localhost:8080/"
        },
        "id": "q1PHgs9swe5k",
        "outputId": "f2e93512-a4ea-4df4-e792-30ecb7f43996"
      },
      "execution_count": null,
      "outputs": [
        {
          "output_type": "stream",
          "name": "stdout",
          "text": [
            "searching best parameters...\n",
            "Fitting 1 folds for each of 330 candidates, totalling 330 fits\n",
            "{'C': 2.0, 'epsilon': 0.2, 'gamma': 0.01}\n",
            "training model...\n",
            "SVR trained succesfully.\n",
            "searching best parameters...\n",
            "Fitting 1 folds for each of 330 candidates, totalling 330 fits\n",
            "{'C': 15.0, 'epsilon': 0.5, 'gamma': 0.01}\n",
            "training model...\n",
            "SVR trained succesfully.\n",
            "searching best parameters...\n",
            "Fitting 1 folds for each of 330 candidates, totalling 330 fits\n",
            "{'C': 0.5, 'epsilon': 0.2, 'gamma': 0.1}\n",
            "training model...\n",
            "SVR trained succesfully.\n",
            "searching best parameters...\n",
            "Fitting 1 folds for each of 330 candidates, totalling 330 fits\n",
            "{'C': 1.0, 'epsilon': 0.2, 'gamma': 0.1}\n",
            "training model...\n",
            "SVR trained succesfully.\n"
          ]
        }
      ]
    },
    {
      "cell_type": "markdown",
      "source": [
        "Each test is then predicted with its corresponding model. In the case of the pop quizzes, the full model is used."
      ],
      "metadata": {
        "id": "ZyYDGu3hxQ6C"
      }
    },
    {
      "cell_type": "code",
      "source": [
        "predicted_MSRpar=model_MSRpar.predict(scaled_features_test[0:750])\n",
        "predicted_MSRvid=model_MSRvid.predict(scaled_features_test[750:1500])\n",
        "predicted_euro=model_euro.predict(scaled_features_test[1500:1959])\n",
        "predicted_surpirse=model.predict(scaled_features_test[1959:])"
      ],
      "metadata": {
        "id": "ZXF4IqtIwpNz"
      },
      "execution_count": null,
      "outputs": []
    },
    {
      "cell_type": "markdown",
      "source": [
        "Finally, the predictions are concatenated in order to follow the indicated format and to be able to evaluate results correctly."
      ],
      "metadata": {
        "id": "HNFfshxOxwsS"
      }
    },
    {
      "cell_type": "code",
      "source": [
        "prediction=np.concatenate((predicted_MSRpar, predicted_MSRvid, predicted_euro, predicted_surpirse))"
      ],
      "metadata": {
        "id": "V0zJ3GOYx67D"
      },
      "execution_count": null,
      "outputs": []
    },
    {
      "cell_type": "markdown",
      "source": [
        "*  It should be clarified that the kernel chosen in this case is the radial basis function. The RBF kernel is a function that is defined as the product of a Gaussian function and a radial basis function, and is used to map the input data into an infinite dimensional feature space where it is possible to find a linear separation between data classes. The reason for this decision is that this kernel has a proven ability to handle non-linearly separable data."
      ],
      "metadata": {
        "id": "EIP5wXfV0CHR"
      }
    },
    {
      "cell_type": "markdown",
      "source": [
        "# **6. Results Evaluation**\n",
        "\n",
        "The correctness of the results is assessed using the pearson correlation with the gold standard provided.\n"
      ],
      "metadata": {
        "id": "VfoVES-LVKy0"
      }
    },
    {
      "cell_type": "code",
      "source": [
        "test_pearson=compute_pearson(prediction, test_labels)\n",
        "print('pc test: ', test_pearson)"
      ],
      "metadata": {
        "colab": {
          "base_uri": "https://localhost:8080/"
        },
        "id": "c8Bu_O72x_uD",
        "outputId": "ecac7094-e622-4740-b6d2-827bf02c81d2"
      },
      "execution_count": null,
      "outputs": [
        {
          "output_type": "stream",
          "name": "stdout",
          "text": [
            "pc test:  0.7812836983345902\n"
          ]
        }
      ]
    },
    {
      "cell_type": "markdown",
      "source": [
        "A pearson correlation of 0.78128 has been obtained using this approach. This is a very good result given that it is among the top 10 participants in the SemEval competition. "
      ],
      "metadata": {
        "id": "WKyBjjBQzAV_"
      }
    },
    {
      "cell_type": "markdown",
      "source": [
        "# **Conclusion**\n",
        "\n",
        "In conclusion, we presented a proposal for a solution to the STS project that performs quite well. The proposal was based on an SVR algorithm applied over some lexical and semantical similarity metrics, with a feature selection step and training four models, each specialising in a particular field of study, that improved the model further, yielding a final correlation score of 0.78128. Our process's drawback is that it has a higher cost in memory and execution time. This occurs because we use four models instead of just one, which increases the cost.\n",
        "\n",
        "Another consequence of the procedure we are aware of is the overfitting of using four different models, each one for each workshop in the dataset. However, we chose to proceed this way for this work's sake because, although the models are biased with the training data and cannot be generalised to other datasets, their performance on these particular test data is remarkable."
      ],
      "metadata": {
        "id": "KDa2SCoy3Awl"
      }
    },
    {
      "cell_type": "markdown",
      "source": [
        "# **References**\n",
        "\n",
        "[1] Daniel Bar, Chris Biemann , Iryna Gurevych, Torsten Zesch (. UKP: Computing Semantic Textual Similarity by\n",
        "Combining Multiple Content Similarity Measures. Department of Computer Science, Technische Universitat Darmstadt. https://gebakx.github.io/ihlt/sts/docs/1-ukp.pdf .\n",
        "\n",
        "\n",
        "[2] Frane Saric, Goran Glavas, Mladen Karan,Jan Snajder, and Bojana Dalbelo Basic. TakeLab: Systems for Measuring Semantic Text Similarity. University of Zagreb. https://gebakx.github.io/ihlt/sts/docs/2-takelab.pdf .\n",
        "\n",
        "[3] Michael Heilman, Nitin Madnani. ETS: Discriminative Edit Models for Paraphrase Scoring. Educational Testing Service. Princeton, NJ 08541, USA. https://gebakx.github.io/ihlt/sts/docs/6-ets.pdf ."
      ],
      "metadata": {
        "id": "rhDHEalhmkmV"
      }
    }
  ]
}